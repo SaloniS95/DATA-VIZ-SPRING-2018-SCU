{
  "nbformat": 4,
  "nbformat_minor": 0,
  "metadata": {
    "colab": {
      "name": "Team Project - June 4",
      "version": "0.3.2",
      "provenance": [],
      "collapsed_sections": []
    },
    "kernelspec": {
      "name": "python2",
      "display_name": "Python 2"
    }
  },
  "cells": [
    {
      "cell_type": "markdown",
      "metadata": {
        "id": "view-in-github",
        "colab_type": "text"
      },
      "source": [
        "[View in Colaboratory](https://colab.research.google.com/github/SaloniS95/DATA-VIZ-SPRING-2018-SCU/blob/python/june4_team.ipynb)"
      ]
    },
    {
      "metadata": {
        "id": "l58jKiGWosxR",
        "colab_type": "text"
      },
      "cell_type": "markdown",
      "source": [
        "\n",
        "\n",
        "# **HOUSING PRICES IN SANTA CLARA COUNTY**\n",
        "\n",
        " ### A project by Ming-Chang Chiang, Katharine Grant, Sikha Rani Das and Saloni Sharma\n",
        " \n",
        "##**FIRST VERSION**\n"
      ]
    },
    {
      "metadata": {
        "id": "ljUXhmc7b44L",
        "colab_type": "text"
      },
      "cell_type": "markdown",
      "source": [
        "## **PREFACE **"
      ]
    },
    {
      "metadata": {
        "id": "fLL70S_Gp00I",
        "colab_type": "text"
      },
      "cell_type": "markdown",
      "source": [
        "It is a fact that the housing prices in the Bay Area have been skyrocketing over the last decade. The Bay Area is facing a major housing crisis and the prices here are much higher compared to other major cities in the USA.\n",
        "\n",
        "Some of the consequences of the increase in house prices are increased commute length and an exodus from the area among other issues. \n",
        "\n",
        "We would like to explore what drives these increased housing prices and hence, the topic for our project is** ‘Housing Prices In Santa Clara County.’**\n",
        "\n",
        "We plan to explore the relationship between  population and inventory on housing prices, focusing on data from the years 2013 to 2018.\n",
        "\n",
        "This document consists of three parts:\n",
        "1. Problem Statement \n",
        "2. Data Cleaning\n",
        "3. Visualizations \n",
        " \n",
        " "
      ]
    },
    {
      "metadata": {
        "id": "KIng1z2PXQtR",
        "colab_type": "text"
      },
      "cell_type": "markdown",
      "source": [
        "## **1. PROBLEM STATEMENT **\n",
        "\n",
        "Owning a house is an important dream for a lot of people. Along with providing basic shelter, having a good house affects our daily life in significant number of ways, be it access to education, work, or recreation.\n",
        "It isn’t a new fact that the housing prices in the Bay Area have been skyrocketing over the last decade. The Bay Area is facing a major housing crisis and the prices here are much higher compared to other major cities in the USA. Some of the consequences of the high house prices are increased commute length, exodus from the area,etc..\n",
        "We wanted to explore what drives these increased housing prices and hence, the topic for our project is ‘Housing Prices In Santa Clara County.’\n",
        "For the purpose of this project, we focused on the Santa Clara County area. We considered the house prices in this area over time and its impact through visualization of relevant data. We have come up with a dashboard that shows the relationship between  median house price, house inventory, median income and population. \n",
        "\n",
        "* BACKGROUND: \n",
        "\n",
        "Some relevant visualizations that support the above mentioned claims about the high house prices are as follows:\n",
        "\n",
        "1. The comparison between Santa Clara County and USA as a whole shows a clear picture as to why the increase in house prices in the Bay Area is such a big issue. The median house price in Santa Clara County is drastically higher than other metro areas of the U.S. and has now risen above $1 million.\n",
        "\n",
        "\n",
        "\n",
        "\n",
        "\n",
        "\n"
      ]
    },
    {
      "metadata": {
        "id": "T5HIQwt-h7B0",
        "colab_type": "code",
        "colab": {}
      },
      "cell_type": "code",
      "source": [
        "[](DATA-VIZ-SPRING-2018-SCU/image_ps/median_sale_price.PNG)"
      ],
      "execution_count": 0,
      "outputs": []
    },
    {
      "metadata": {
        "id": "fgIzoUuWtPNY",
        "colab_type": "text"
      },
      "cell_type": "markdown",
      "source": [
        "##**1. INTRODUCTION**"
      ]
    },
    {
      "metadata": {
        "id": "bhTuvNcRtXNy",
        "colab_type": "text"
      },
      "cell_type": "markdown",
      "source": [
        "We have developed this project with the \"Council of the City of Santa Clara\" in mind as our audience. The reason we chose the City Council as our audience is because they are responsible for deciding of the number of houses that are built. The number of housing units available for sale has a direct relationship with the price of the houses. \n",
        "\n",
        "The purpose of our project is to explore and show the relationship between population, income and number of housing units to the house prices, and possibly come up with a solution to the house price issue faced by this area, without drastically reducing the house values for the current owners.\n",
        "\n",
        "All of the datasets we collected were of different granularities. So our first step was to clean the data, shown in the \"DATA CLEANING\" process shown below.\n",
        "\n",
        "All of the datasets used for the following cleaning and visualizations can be found here : https://drive.google.com/drive/folders/18VP9Q7Qs7xAyFbbQ3LbmmvOTEhucyusH?usp=sharing\n"
      ]
    },
    {
      "metadata": {
        "id": "X4QCnFePxEt-",
        "colab_type": "text"
      },
      "cell_type": "markdown",
      "source": [
        "##**2. DATA CLEANING**"
      ]
    },
    {
      "metadata": {
        "id": "nFbgodg5DPrS",
        "colab_type": "code",
        "colab": {
          "base_uri": "https://localhost:8080/",
          "height": 34
        },
        "outputId": "1cf46369-db5d-496b-e656-fe59e0a60a17"
      },
      "cell_type": "code",
      "source": [
        "from IPython.core.interactiveshell import InteractiveShell\n",
        "InteractiveShell.ast_node_interactivity = \"all\"\n",
        "\n",
        "import seaborn as sns\n",
        "import pandas as pd\n",
        "import numpy as np\n",
        "%pylab inline\n",
        "\n",
        "import sklearn as sk\n",
        "import sklearn.tree as tree\n",
        "from IPython.display import Image  \n"
      ],
      "execution_count": 2,
      "outputs": [
        {
          "output_type": "stream",
          "text": [
            "Populating the interactive namespace from numpy and matplotlib\n"
          ],
          "name": "stdout"
        }
      ]
    },
    {
      "metadata": {
        "id": "VBA2AD-i6NTp",
        "colab_type": "code",
        "colab": {}
      },
      "cell_type": "code",
      "source": [
        ""
      ],
      "execution_count": 0,
      "outputs": []
    },
    {
      "metadata": {
        "id": "H8MItfs8eJYr",
        "colab_type": "text"
      },
      "cell_type": "markdown",
      "source": [
        "### Dataset 3: Affordability\n",
        "\n",
        "To explore the effect high housing prices have on people, we wanted to look at housing affordability. \n",
        "\n",
        "**Data Source:**\n",
        "We obtained the dataset from Zillow's \"Mortgage Affordability, Rental Affordability, Price-to-Income Ratio, and Household Income\" dataset at (https://www.zillow.com/research/data/ )\n",
        "\n",
        "**Data cleaning:** We made a new dataframe that contains data for only the San Jose Metropolitan Area. We then removed some unnecessary fields from the dataset that would only be of use if we were looking at multiple places.\n",
        "\n",
        "**Limitations of the datasets:** Unlike most of our data, this dataset is about the San Jose Metropolitan Area (SJMA) instead of Santa Clara County, meaning that it is more difficult to compare it to the others as the two regions only partly overlap. However, the two areas likely have similar trends in that house prices have risen faster than income, even if the SJMA ratio is not as drastic as the ratio in Santa Clara County."
      ]
    },
    {
      "metadata": {
        "id": "4AO5BGoj733E",
        "colab_type": "code",
        "colab": {
          "resources": {
            "http://localhost:8080/nbextensions/google.colab/files.js": {
              "data": "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",
              "ok": true,
              "headers": [
                [
                  "content-type",
                  "application/javascript"
                ]
              ],
              "status": 200,
              "status_text": ""
            }
          },
          "base_uri": "https://localhost:8080/",
          "height": 35
        },
        "outputId": "fba911e7-f4ed-4554-b91f-fafdcc77f792"
      },
      "cell_type": "code",
      "source": [
        "from google.colab import files\n",
        "uploaded = files.upload()"
      ],
      "execution_count": 0,
      "outputs": [
        {
          "output_type": "display_data",
          "data": {
            "text/plain": [
              "<IPython.core.display.HTML object>"
            ],
            "text/html": [
              "\n",
              "     <input type=\"file\" id=\"files-a9ddb482-f1ae-4922-8c31-8a20d1b703db\" name=\"files[]\" multiple disabled />\n",
              "     <output id=\"result-a9ddb482-f1ae-4922-8c31-8a20d1b703db\">\n",
              "      Upload widget is only available when the cell has been executed in the\n",
              "      current browser session. Please rerun this cell to enable.\n",
              "      </output>\n",
              "      <script src=\"/nbextensions/google.colab/files.js\"></script> "
            ]
          },
          "metadata": {
            "tags": []
          }
        }
      ]
    },
    {
      "metadata": {
        "id": "y6Km4YY978aI",
        "colab_type": "code",
        "colab": {
          "base_uri": "https://localhost:8080/",
          "height": 293
        },
        "outputId": "c8786c74-cbd6-4740-8757-2d25dbef6ad7"
      },
      "cell_type": "code",
      "source": [
        "affordability = pd.read_csv('Affordability_Wide_2017Q4_Public.csv')\n",
        "affordability_SJMA = affordability[affordability.RegionName == 'San Jose, CA'] # getting the region San Jose\n",
        "affordability_SJMA = affordability_SJMA.transpose() # transposing \n",
        "SJMA_aff = affordability_SJMA.drop(['RegionID','RegionName','SizeRank','HistoricAverage_1985thru1999','Index'], axis=0) # drop extra fields\n",
        "SJMA_aff.reset_index(level=0,inplace=True) #reset index\n",
        "SJMA_aff.columns = ['YearMonth','Price To Income','Mortgage Affordability','Rent Affordability'] # renaming the columns \n",
        "SJMA_aff.to_csv('SJMA_aff.csv') # exporting to csv"
      ],
      "execution_count": 0,
      "outputs": [
        {
          "output_type": "execute_result",
          "data": {
            "text/html": [
              "<div>\n",
              "<style scoped>\n",
              "    .dataframe tbody tr th:only-of-type {\n",
              "        vertical-align: middle;\n",
              "    }\n",
              "\n",
              "    .dataframe tbody tr th {\n",
              "        vertical-align: top;\n",
              "    }\n",
              "\n",
              "    .dataframe thead th {\n",
              "        text-align: right;\n",
              "    }\n",
              "</style>\n",
              "<table border=\"1\" class=\"dataframe\">\n",
              "  <thead>\n",
              "    <tr style=\"text-align: right;\">\n",
              "      <th></th>\n",
              "      <th>RegionID</th>\n",
              "      <th>RegionName</th>\n",
              "      <th>SizeRank</th>\n",
              "      <th>Index</th>\n",
              "      <th>HistoricAverage_1985thru1999</th>\n",
              "      <th>1979-03</th>\n",
              "      <th>1979-06</th>\n",
              "      <th>1979-09</th>\n",
              "      <th>1979-12</th>\n",
              "      <th>1980-03</th>\n",
              "      <th>...</th>\n",
              "      <th>2015-09</th>\n",
              "      <th>2015-12</th>\n",
              "      <th>2016-03</th>\n",
              "      <th>2016-06</th>\n",
              "      <th>2016-09</th>\n",
              "      <th>2016-12</th>\n",
              "      <th>2017-03</th>\n",
              "      <th>2017-06</th>\n",
              "      <th>2017-09</th>\n",
              "      <th>2017-12</th>\n",
              "    </tr>\n",
              "  </thead>\n",
              "  <tbody>\n",
              "    <tr>\n",
              "      <th>0</th>\n",
              "      <td>102001</td>\n",
              "      <td>United States</td>\n",
              "      <td>0</td>\n",
              "      <td>Price To Income</td>\n",
              "      <td>2.761174</td>\n",
              "      <td>2.901070</td>\n",
              "      <td>2.937085</td>\n",
              "      <td>2.942448</td>\n",
              "      <td>2.939913</td>\n",
              "      <td>2.926588</td>\n",
              "      <td>...</td>\n",
              "      <td>3.199514</td>\n",
              "      <td>3.203401</td>\n",
              "      <td>3.226179</td>\n",
              "      <td>3.251385</td>\n",
              "      <td>3.284616</td>\n",
              "      <td>3.326526</td>\n",
              "      <td>3.359691</td>\n",
              "      <td>3.394127</td>\n",
              "      <td>3.424755</td>\n",
              "      <td>3.453322</td>\n",
              "    </tr>\n",
              "    <tr>\n",
              "      <th>1</th>\n",
              "      <td>394913</td>\n",
              "      <td>New York, NY</td>\n",
              "      <td>1</td>\n",
              "      <td>Price To Income</td>\n",
              "      <td>3.990319</td>\n",
              "      <td>2.997267</td>\n",
              "      <td>3.027436</td>\n",
              "      <td>3.038259</td>\n",
              "      <td>3.029421</td>\n",
              "      <td>3.074699</td>\n",
              "      <td>...</td>\n",
              "      <td>5.407222</td>\n",
              "      <td>5.396852</td>\n",
              "      <td>5.392362</td>\n",
              "      <td>5.396885</td>\n",
              "      <td>5.472598</td>\n",
              "      <td>5.538366</td>\n",
              "      <td>5.624480</td>\n",
              "      <td>5.719101</td>\n",
              "      <td>5.769301</td>\n",
              "      <td>5.783931</td>\n",
              "    </tr>\n",
              "    <tr>\n",
              "      <th>2</th>\n",
              "      <td>753899</td>\n",
              "      <td>Los Angeles-Long Beach-Anaheim, CA</td>\n",
              "      <td>2</td>\n",
              "      <td>Price To Income</td>\n",
              "      <td>4.527275</td>\n",
              "      <td>4.096690</td>\n",
              "      <td>4.222295</td>\n",
              "      <td>4.292069</td>\n",
              "      <td>4.356966</td>\n",
              "      <td>4.383297</td>\n",
              "      <td>...</td>\n",
              "      <td>8.646172</td>\n",
              "      <td>8.624830</td>\n",
              "      <td>8.686780</td>\n",
              "      <td>8.737992</td>\n",
              "      <td>8.752867</td>\n",
              "      <td>8.875102</td>\n",
              "      <td>8.924389</td>\n",
              "      <td>8.980136</td>\n",
              "      <td>9.024676</td>\n",
              "      <td>9.133433</td>\n",
              "    </tr>\n",
              "  </tbody>\n",
              "</table>\n",
              "<p>3 rows × 161 columns</p>\n",
              "</div>"
            ],
            "text/plain": [
              "   RegionID                          RegionName  SizeRank            Index  \\\n",
              "0    102001                       United States         0  Price To Income   \n",
              "1    394913                        New York, NY         1  Price To Income   \n",
              "2    753899  Los Angeles-Long Beach-Anaheim, CA         2  Price To Income   \n",
              "\n",
              "   HistoricAverage_1985thru1999   1979-03   1979-06   1979-09   1979-12  \\\n",
              "0                      2.761174  2.901070  2.937085  2.942448  2.939913   \n",
              "1                      3.990319  2.997267  3.027436  3.038259  3.029421   \n",
              "2                      4.527275  4.096690  4.222295  4.292069  4.356966   \n",
              "\n",
              "    1980-03    ...      2015-09   2015-12   2016-03   2016-06   2016-09  \\\n",
              "0  2.926588    ...     3.199514  3.203401  3.226179  3.251385  3.284616   \n",
              "1  3.074699    ...     5.407222  5.396852  5.392362  5.396885  5.472598   \n",
              "2  4.383297    ...     8.646172  8.624830  8.686780  8.737992  8.752867   \n",
              "\n",
              "    2016-12   2017-03   2017-06   2017-09   2017-12  \n",
              "0  3.326526  3.359691  3.394127  3.424755  3.453322  \n",
              "1  5.538366  5.624480  5.719101  5.769301  5.783931  \n",
              "2  8.875102  8.924389  8.980136  9.024676  9.133433  \n",
              "\n",
              "[3 rows x 161 columns]"
            ]
          },
          "metadata": {
            "tags": []
          },
          "execution_count": 4
        }
      ]
    },
    {
      "metadata": {
        "id": "HeX-n6trGI_i",
        "colab_type": "text"
      },
      "cell_type": "markdown",
      "source": [
        "**A) Population **\n"
      ]
    },
    {
      "metadata": {
        "id": "52acTscaVmtp",
        "colab_type": "text"
      },
      "cell_type": "markdown",
      "source": [
        ""
      ]
    },
    {
      "metadata": {
        "id": "y-d2Ann1DUzS",
        "colab_type": "code",
        "colab": {
          "resources": {
            "http://localhost:8080/nbextensions/google.colab/files.js": {
              "data": "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",
              "ok": true,
              "headers": [
                [
                  "content-type",
                  "application/javascript"
                ]
              ],
              "status": 200,
              "status_text": ""
            }
          },
          "base_uri": "https://localhost:8080/",
          "height": 74
        },
        "outputId": "2dc0b910-f9b0-4394-db58-70d350f26c6d"
      },
      "cell_type": "code",
      "source": [
        "from google.colab import files\n",
        "uploaded = files.upload()"
      ],
      "execution_count": 0,
      "outputs": [
        {
          "output_type": "display_data",
          "data": {
            "text/plain": [
              "<IPython.core.display.HTML object>"
            ],
            "text/html": [
              "\n",
              "     <input type=\"file\" id=\"files-fef50e52-5e9a-4108-ac1d-45b83c4ab814\" name=\"files[]\" multiple disabled />\n",
              "     <output id=\"result-fef50e52-5e9a-4108-ac1d-45b83c4ab814\">\n",
              "      Upload widget is only available when the cell has been executed in the\n",
              "      current browser session. Please rerun this cell to enable.\n",
              "      </output>\n",
              "      <script src=\"/nbextensions/google.colab/files.js\"></script> "
            ]
          },
          "metadata": {
            "tags": []
          }
        },
        {
          "output_type": "stream",
          "text": [
            "Saving Population_Santa Clara.csv to Population_Santa Clara.csv\n"
          ],
          "name": "stdout"
        }
      ]
    },
    {
      "metadata": {
        "id": "5MnMl_VWQmEf",
        "colab_type": "text"
      },
      "cell_type": "markdown",
      "source": [
        "##**3. FINDINGS AND VISUALIZATIONS**\n",
        "\n",
        "The following are the various visualizations that we have come up with showing the relationship between various parameters."
      ]
    },
    {
      "metadata": {
        "id": "mgABmjI7gIC1",
        "colab_type": "code",
        "colab": {}
      },
      "cell_type": "code",
      "source": [
        "Median Sales Price and Inventory"
      ],
      "execution_count": 0,
      "outputs": []
    },
    {
      "metadata": {
        "id": "M0loLdt78LTf",
        "colab_type": "text"
      },
      "cell_type": "markdown",
      "source": [
        "**Median Sales Price and Inventory**:\n",
        "\n",
        "**Audience**: We have developed this project with the \" City Council of Santa Clara\" in mind as our audience. The reason we chose the City Council as our audience is because they are responsible for deciding of the number of houses that are built. \n",
        "Their want is to make people happy about the house prices , they want  house prices not to fall below a min  range for  those section that already have a house in this area and also to bring down price to a reasonable level who want to buy house in this area(want of audience as per audience model)\n",
        "\n",
        "\n",
        "**Claim**:The number of housing units available for sale has a direct relationship with the price of the houses. \n",
        "\n",
        "\n",
        "**Data **:\n",
        "\n",
        "**Data Collection & Wrangling**:To meet the need of the goal(as per GQM) we have used the following data sources: \n"
      ]
    },
    {
      "metadata": {
        "id": "nFHCTb3STnLg",
        "colab_type": "text"
      },
      "cell_type": "markdown",
      "source": [
        "## Dataset 1: Inventory for Sale\n",
        "The reason we want to find the the number of houses available for sale is to understand the housing supply situation. When the supply is lower, the house price should go up. \n",
        "\n",
        "**Data Source:** We obtained the inventory dataset from Zillow at the following link:\n",
        "https://www.zillow.com/research/data/ \n",
        "\n",
        "**Data cleaning:** Since we are mainly interested in Santa Clara County, we made a new dataframe that contains data for only Santa Clara County. We then removed some unnecessary columns from the dataset: \n",
        "   1. We removed the columns for the year 2010, 2011 & 2012 because we were only interested in the data for the last five years.\n",
        "   2. Since our extracted dataframe contains data only for Santa Clara County, we removed other columns like RegionType,\tCountyName, Metro, State, FullName, and DataTypeDescription that would only be of use if we were looking at multiple places.\n",
        "\n",
        "\n",
        "\n",
        "\n"
      ]
    },
    {
      "metadata": {
        "id": "fWbpXPRs6Q1K",
        "colab_type": "code",
        "colab": {}
      },
      "cell_type": "code",
      "source": [
        "from google.colab import files\n",
        "uploaded = files.upload()"
      ],
      "execution_count": 0,
      "outputs": []
    },
    {
      "metadata": {
        "id": "uxVZOKct5-uE",
        "colab_type": "code",
        "colab": {}
      },
      "cell_type": "code",
      "source": [
        "#importing the csv file\n",
        "df =pd.read_csv('InventoryMeasure_County_Public.csv', index_col=0)\n",
        "#selecting the row with Santa Clara as index\n",
        "df_santaclara =df.loc[(df.index=='Santa Clara'), ]\n",
        "\n",
        "#dropping unwanted columns \n",
        "df_santaclara= df_santaclara[df_santaclara.columns.drop(list(df_santaclara.filter(regex='2010')))]\n",
        "df_santaclara= df_santaclara[df_santaclara.columns.drop(list(df_santaclara.filter(regex='2011')))]\n",
        "df_santaclara= df_santaclara[df_santaclara.columns.drop(list(df_santaclara.filter(regex='2012')))]\n",
        "df_santaclara= df_santaclara[df_santaclara.columns.drop(list(df_santaclara.filter(regex='RegionType')))]\n",
        "df_santaclara= df_santaclara[df_santaclara.columns.drop(list(df_santaclara.filter(regex='CountyName')))]\n",
        "df_santaclara= df_santaclara[df_santaclara.columns.drop(list(df_santaclara.filter(regex='Metro')))]\n",
        "df_santaclara= df_santaclara[df_santaclara.columns.drop(list(df_santaclara.filter(regex='StateFullName')))]\n",
        "df_santaclara= df_santaclara[df_santaclara.columns.drop(list(df_santaclara.filter(regex='DataTypeDescription')))]\n",
        "\n",
        "##Transpose \n",
        "df_inventory_santaclara =df_santaclara.transpose()                    \n",
        "#df_inventory_santaclara =df_inventory_santaclara.iloc[7:,]            ##remove unnecessary columns\n",
        "## Reset Index\n",
        "df_inventory_santaclara.reset_index(level=0,inplace=True)\n",
        "## \n",
        "df_inventory_santaclara.columns=['YearMonth','Units']\n",
        "\n",
        "##Extract year from Date\n",
        "df_inventory_santaclara['Year']=(df_inventory_santaclara['YearMonth'].str.split('-').str[0])\n",
        "\n",
        "#average inventory by year\n",
        "df_inventory_santaclara[['Units']] = df_inventory_santaclara[['Units']].apply(pd.to_numeric)\n",
        "df_inventory_santaclara[['Year']] = df_inventory_santaclara[['Year']].apply(pd.to_numeric)\n",
        "avg_inventory_santaclara= df_inventory_santaclara.groupby('Year', as_index=False)['Units'].mean()\n",
        "avg_inventory_santaclara.columns=['Year','Avg_Units']\n",
        "avg_inventory_santaclara\n",
        "\n",
        "sns.factorplot(x='Year', y= 'Avg_Units', data= avg_inventory_santaclara, kind='bar', aspect=3)\n"
      ],
      "execution_count": 0,
      "outputs": []
    },
    {
      "metadata": {
        "id": "wRY1BkctvuN2",
        "colab_type": "text"
      },
      "cell_type": "markdown",
      "source": [
        "### Dataset 2: House Price Dataset\n",
        "\n",
        "\n",
        "This is our main dataset. We obtained this dataset from Zillow Research. It consists of datasets of various different regions and states, but we are only interested in the 'Santa Clara' region data.\n",
        "\n",
        "The dataset consists of monthly data from 2008 to 2018. Compared to other data resources of Santa Clara County house prices, such as the Census Bureau or S&P/Case-Shiller Home Price Indices, we found that Zillow has the most updated and county specific information. We define the “house price” as median sales price of all types of houses, which include single family houses, condos, and apartments.\n",
        "\n",
        "**Data Source:**\n",
        "Zillow Research Sale Price Dataset: https://www.zillow.com/research/data/\n",
        "\n",
        "**Data Cleaning:**\n",
        "We extracted the data for the particular region and analysed it. This dataset is the dataset with which we would like to compare/merge our other datasets with to see if our intuition and research regarding housing prices is correct or not. To clean it for future merging and use, we filtered to only the Santa Clara column and then transposed it so that each month was a row."
      ]
    },
    {
      "metadata": {
        "id": "5mViCBHbAluu",
        "colab_type": "code",
        "colab": {}
      },
      "cell_type": "code",
      "source": [
        "#exploring the sales prices dataset to compare it to the average units. \n",
        "from google.colab import files\n",
        "uploaded = files.upload()"
      ],
      "execution_count": 0,
      "outputs": []
    },
    {
      "metadata": {
        "id": "7KGYIFMNAUQv",
        "colab_type": "code",
        "colab": {}
      },
      "cell_type": "code",
      "source": [
        "sales = pd.read_csv('Sale_Prices_County_Aff.csv')\n",
        "SCC_sales = sales[sales.RegionName == 'Santa Clara'] #getting the data for the region Santa Clara\n",
        "#dropping unwanted data\n",
        "SCC_sales= SCC_sales[SCC_sales.columns.drop(list(SCC_sales.filter(regex='2008')))]\n",
        "SCC_sales= SCC_sales[SCC_sales.columns.drop(list(SCC_sales.filter(regex='2009')))]\n",
        "SCC_sales= SCC_sales[SCC_sales.columns.drop(list(SCC_sales.filter(regex='2010')))]\n",
        "SCC_sales= SCC_sales[SCC_sales.columns.drop(list(SCC_sales.filter(regex='2011')))]\n",
        "SCC_sales= SCC_sales[SCC_sales.columns.drop(list(SCC_sales.filter(regex='2012')))]\n",
        "\n",
        "#transposing into columns\n",
        "SCC_col = SCC_sales.transpose()\n",
        "SCC_col.head()\n",
        "\n",
        "#dropping unwanted columns\n",
        "SCC_col = SCC_col.drop(['RegionID','RegionName','StateName','SizeRank'], axis=0)\n",
        "SCC_col.head()\n",
        "\n",
        "##Reset index\n",
        "SCC_col.reset_index(level=0,inplace=True)\n",
        "\n",
        "##Name columns\n",
        "SCC_col.columns = ['YearMonth','Median_Sales_Price']\n",
        "\n",
        "##Make a new column Year from YearMonth\n",
        "SCC_col['Year']= (SCC_col['YearMonth'].str.split('-').str[0])\n",
        "\n",
        "#Convert median sales price & year to numeric\n",
        "SCC_col['Median_Sales_Price'] = SCC_col['Median_Sales_Price'].apply(pd.to_numeric)\n",
        "SCC_col['Year'] = SCC_col['Year'].apply(pd.to_numeric)\n",
        "\n",
        "##Make a new dataframe groupby year\n",
        "SCC_MSP_year = SCC_col.groupby('Year', as_index=False).mean()\n",
        "SCC_MSP_year\n",
        "\n",
        "#merging the inventory for sales and the median sales price and then export CSV\n",
        "mdf= SCC_MSP_year.merge(avg_inventory_santaclara, left_on = \"Year\", right_on = \"Year\")\n",
        "\n",
        "from google.colab import files\n",
        "mdf.to_csv('mdf.csv')\n",
        "files.download('mdf.csv')"
      ],
      "execution_count": 0,
      "outputs": []
    },
    {
      "metadata": {
        "id": "-fV1oNMhgsmG",
        "colab_type": "text"
      },
      "cell_type": "markdown",
      "source": [
        "MERGE DATASET 1 &2"
      ]
    },
    {
      "metadata": {
        "id": "IMgANeFsA4hC",
        "colab_type": "code",
        "colab": {}
      },
      "cell_type": "code",
      "source": [
        "monthly_mdf = SCC_col.merge(df_inventory_santaclara, left_on = \"YearMonth\", right_on = \"YearMonth\") # merged at monthly level for prediction graph\n",
        "mdf.to_csv('Monthly_Sales_Inventory.csv')"
      ],
      "execution_count": 0,
      "outputs": []
    },
    {
      "metadata": {
        "id": "YLkscoqQQzcr",
        "colab_type": "text"
      },
      "cell_type": "markdown",
      "source": [
        "### Warrant:\n",
        "\n",
        "Using the  Monthly_Sales_Inventory dataset. \n",
        "\n",
        "1.First, we ran a regression in Excel between house price and inventory for sale from 2013 to 2018. The equation we got is House Price = -359.25 * Inventory for Sales + 1,337,580. With this equation, we can now affect the House Price by manipulating the housing inventory number. \n",
        "\n",
        "2.In Tableau, we created a parameter for Inventory for Sale and a calculated field for House Price using our equation. We then made two graphs, one with the original data where we set the x-axis to year and the y-axis to median sales price, and one where we instead set the y-axis to the calculated field. In the second graph, we showed the forecast and hid the past data so we could align the calculated forecast with our original graph.\n",
        "\n",
        "3. We decided touse bar graph because the data only covers six years and we thought the graph looked less jagged as bars, as well as it being easier for someone to compare the predicted column than a predicted point.\n",
        "\n",
        "The chart  is available in the following link and screen shot below.\n",
        "\n",
        "**Link:** https://public.tableau.com/profile/katharine.grant#!/vizhome/HousePriceandForecast/HousePriceandForecast\n",
        "\n"
      ]
    },
    {
      "metadata": {
        "id": "qqqDYlnVT617",
        "colab_type": "text"
      },
      "cell_type": "markdown",
      "source": [
        "**Interesting Aspect:**  \n",
        "We found that we can forecast the house prices by changing the inventory for sales. The correlation between the house price and inventory for sales is negative. However, this model is oversimplied. From the intercept, we can tell the maximum of the median house price is just 1.3M. \n",
        "\n",
        "\n",
        "**Backing** Bar charts represent data as horizontal or vertical bars. **The length of each bar is proportional to the value of the variable.\n",
        "\n",
        "We see that length of the bar is increasing over the years that means ; Therefore, the chart strongly and clearly supports our claim that Developed countries with more guns also have more gun deaths.\n",
        "\n",
        "**Qualifier**:The claim is true for only Santa Clara County in general not for each city of the county  and for the time period fronm 2013 to 2017.\n",
        "\n",
        "**Rebuttle** If we include more county's then our findings may vary a bit but we have specifically mentioned that  our claim is true for only Santa Clara County in general not for each city of the county  and for the time period fronm 2013 to 2017, so possible rebuttle is being taken care of."
      ]
    },
    {
      "metadata": {
        "id": "4mwg6auTYiFE",
        "colab_type": "text"
      },
      "cell_type": "markdown",
      "source": [
        "### Population and Housing Units\n"
      ]
    },
    {
      "metadata": {
        "id": "7k9BMGJ5VZTA",
        "colab_type": "text"
      },
      "cell_type": "markdown",
      "source": [
        "**Audience**: We have developed this project with the \" City Council of Santa Clara\" in mind as our audience. The reason we chose the City Council as our audience is because they are responsible for deciding of the number of houses that are built. \n",
        "Their want is to make people happy about the house prices , they want  house prices not to fall below a min  range for  those section that already have a house in this area and also to bring down price to a reasonable level who want to buy house in this area(want of audience as per audience model)\n",
        "\n",
        "\n",
        "**Claim**:The number of housing units available for sale has a direct relationship with the price of the houses. \n",
        "\n",
        "\n",
        "**Data **:\n",
        "\n",
        "Data Collection & Wrangling:To meet the need of the goal(as per GQM) we have used the following data sources: \n",
        "\n",
        "\n",
        "Population dataset : https://fred.stlouisfed.org/series/CASANT5POP .\n",
        "Housing Units dataset: https://factfinder.census.gov/faces/tableservices/jsf/pages/productview.xhtml?src=CF\n",
        "for 2017 we found data at https://factfinder.census.gov/bkmk/table/1.0/en/PEP/2017/PEPANNHU/0500000US06085\n"
      ]
    },
    {
      "metadata": {
        "id": "mSP7Ode1hl7w",
        "colab_type": "text"
      },
      "cell_type": "markdown",
      "source": [
        "**A) Population Dataset**"
      ]
    },
    {
      "metadata": {
        "id": "H4BmL7R-VN6r",
        "colab_type": "code",
        "colab": {}
      },
      "cell_type": "code",
      "source": [
        "from google.colab import files\n",
        "uploaded = files.upload()"
      ],
      "execution_count": 0,
      "outputs": []
    },
    {
      "metadata": {
        "id": "JX8en6JhVN90",
        "colab_type": "code",
        "colab": {}
      },
      "cell_type": "code",
      "source": [
        "Population= pd.read_csv('Population_Santa Clara.csv', skiprows=1)\n",
        "\n",
        "##Make a new column Year from Date Column\n",
        "Population['Year']=Population['Date'].str.split('/').str[2]\n",
        "\n",
        "##Make a new dataframe with years from 2010 to 2018\n",
        "Population_1 = Population.iloc[40:48, ]\n",
        "\n",
        "## Drop Date column\n",
        "Population_1 =Population_1.drop(\"Date\", axis=1)\n",
        "\n",
        "## Naming the  Columns\n",
        "Population_1.columns=['Population_1','Year']\n",
        "\n",
        "## Make a new column Population_2\n",
        "Population_1['Population_2'] = Population_1['Population_1'].shift(1)\n",
        "\n",
        "## Make a new column PopulationChange_in_Thousands\n",
        "Population_1['PopulationChange_in_Thousands'] = pd.to_numeric(Population_1['Population_1']) - pd.to_numeric(Population_1['Population_2'])\n",
        "\n",
        "##name the columns\n",
        "Population_1=Population_1[['Year','Population_1','Population_2','PopulationChange_in_Thousands']]\n",
        "\n",
        "##Drop unnecessary columns\n",
        "Population_Final =Population_1.drop(['Population_1','Population_2'],axis=1)\n",
        "\n",
        "##Convert year to numeric\n",
        "Population_Final[['Year']] = Population_Final[['Year']].apply(pd.to_numeric)\n",
        "Population_Final.head()"
      ],
      "execution_count": 0,
      "outputs": []
    },
    {
      "metadata": {
        "id": "YbDitkCmhrgr",
        "colab_type": "text"
      },
      "cell_type": "markdown",
      "source": [
        "**B) Housing Units Dataset**"
      ]
    },
    {
      "metadata": {
        "id": "Vy0hFWgtXEAw",
        "colab_type": "code",
        "colab": {}
      },
      "cell_type": "code",
      "source": [
        "from google.colab import files\n",
        "uploaded = files.upload()"
      ],
      "execution_count": 0,
      "outputs": []
    },
    {
      "metadata": {
        "id": "2S7HwAj5VOBe",
        "colab_type": "code",
        "colab": {}
      },
      "cell_type": "code",
      "source": [
        "#reading the csv\n",
        "Units= pd.read_csv('Units1.csv', skiprows=1)\n",
        "##Transpose\n",
        "Units = Units.transpose() \n",
        "\n",
        "##Reset index\n",
        "Units.reset_index(inplace=True)\n",
        "\n",
        "##Name Columns\n",
        "Units.columns=['index','Year','Units'] \n",
        "\n",
        "##Getting a new column from year column\n",
        "Units['Year1']=Units['Year'].str.split('-').str[1]\n",
        "\n",
        "##Make a new dataframe\n",
        "Units_1=Units.iloc[6:14,2:]\n",
        "\n",
        "## Make a new row with rows shifted\n",
        "Units_1['Units2'] = Units_1['Units'].shift(1)\n",
        "\n",
        "## Make a new column change and Convert to Numeric\n",
        "Units_1['Change'] = pd.to_numeric(Units_1['Units'].str.replace(\",\",\"\").str.strip()) - \\\n",
        "pd.to_numeric(Units_1['Units2'].str.replace(\",\",\"\").str.strip())\n",
        "\n",
        "##Make a new dataframe\n",
        "Units_1 = Units_1.iloc[1:8, ]\n",
        "\n",
        "##Reorder\n",
        "Units_1=Units_1[['Year1','Units','Units2','Change']]\n",
        "\n",
        "##Drop unncessary columns\n",
        "\n",
        "Units_Final=Units_1.drop(['Units','Units2'],axis=1)\n",
        "\n",
        "##Name the columns\n",
        "Units_Final.columns=['Year','Units_Change']\n",
        "\n",
        "##Convert Year to numeric\n",
        "Units_Final[['Year']] = Units_Final[['Year']].apply(pd.to_numeric)\n",
        "Units_Final.head(30)   \n",
        "\n",
        "# Merge and exporting csv \n",
        "Population_Units= Population_Final.merge(Units_Final, left_on = \"Year\", right_on = \"Year\")\n",
        "\n",
        "from google.colab import files\n",
        "Population_Units.to_csv('Population_Units.csv')\n",
        "files.download('Population_Units.csv')"
      ],
      "execution_count": 0,
      "outputs": []
    },
    {
      "metadata": {
        "id": "IBPpGdAHQzX_",
        "colab_type": "text"
      },
      "cell_type": "markdown",
      "source": [
        "**Warrant:**\n",
        "\n",
        "To create this visualization, we used the Population_Units dataset. In the graph, we have set Year as the x-axis, with Population Change and Units Change as the bar columns where each pair of bars represents data for one year. After experimenting with a line graph, we chose to make it a bar graph as we think it better shows the gap between the two rates of growth.\n",
        "\n",
        "The chart  is available in the following link and screen shot below.\n",
        "\n",
        "**Link:** \n",
        "\n",
        "https://public.tableau.com/profile/katharine.grant#!/vizhome/PopulationandHousing/PopulationandHousing\n",
        "\n"
      ]
    },
    {
      "metadata": {
        "id": "Vh1_Y8BSZc-6",
        "colab_type": "code",
        "colab": {}
      },
      "cell_type": "code",
      "source": [
        ""
      ],
      "execution_count": 0,
      "outputs": []
    },
    {
      "metadata": {
        "id": "pNQTkzNUZdyf",
        "colab_type": "text"
      },
      "cell_type": "markdown",
      "source": [
        "**Interesting Aspect:**\n",
        "There was a large gap between Housing Units and Population change in the beginning, but now we see that the graph is converging as the gap diminshes. That points towards two things:\n",
        "1. Housing Units and Population Change are negatively correlated.\n",
        "2. As the difference between the two rates of increase narrows, we can infer that while the ratio of houses to people is not getting much worse, it is not yet getting better.\n",
        "\n",
        "**Backing** Bar charts represent data as horizontal or vertical bars. **The length of each bar is proportional to the value of the variable.\n",
        "\n",
        "We see that length of the bar is increasing over the years that means ; Therefore, the chart strongly and clearly supports our claim that Developed countries with more guns also have more gun deaths.\n",
        "\n",
        "**Qualifier**:The claim is true for only Santa Clara County in general not for each city of the county  and for the time period fronm 2013 to 2017.\n",
        "\n",
        "**Rebuttle** If we include more county's then our findings may vary a bit but we have specifically mentioned that  our claim is true for only Santa Clara County in general not for each city of the county  and for the time period fronm 2013 to 2017, so possible rebuttle is being taken care of.\n"
      ]
    },
    {
      "metadata": {
        "id": "74JdNoLAc3wN",
        "colab_type": "text"
      },
      "cell_type": "markdown",
      "source": [
        "### House Prices and Income"
      ]
    },
    {
      "metadata": {
        "id": "a6wtbKclc-cE",
        "colab_type": "text"
      },
      "cell_type": "markdown",
      "source": [
        "**Audience**: We have developed this project with the \" City Council of Santa Clara\" in mind as our audience. The reason we chose the City Council as our audience is because they are responsible for deciding of the number of houses that are built. \n",
        "Their want is to make people happy about the house prices , they want  house prices not to fall below a min  range for  those section that already have a house in this area and also to bring down price to a reasonable level who want to buy house in this area(want of audience as per audience model)\n",
        "\n",
        "\n",
        "**Claim**:The number of housing units available for sale has a direct relationship with the price of the houses. \n",
        "\n",
        "\n",
        "**Data **:\n",
        "\n",
        "Data Collection & Wrangling:To meet the need of the goal(as per GQM) we have used the following data sources: \n"
      ]
    },
    {
      "metadata": {
        "id": "s5phvSLfh1g0",
        "colab_type": "text"
      },
      "cell_type": "markdown",
      "source": [
        ""
      ]
    },
    {
      "metadata": {
        "id": "HKFHJ9UCcpWG",
        "colab_type": "code",
        "colab": {}
      },
      "cell_type": "code",
      "source": [
        "from google.colab import files\n",
        "uploaded = files.upload()"
      ],
      "execution_count": 0,
      "outputs": []
    },
    {
      "metadata": {
        "id": "a3d88Xf8cIzc",
        "colab_type": "code",
        "colab": {}
      },
      "cell_type": "code",
      "source": [
        "import pandas as pd\n",
        "sales = pd.read_csv('Sale_Prices_County_Aff.csv')\n",
        "SCC_sales = sales[sales.RegionName == 'Santa Clara']\n",
        "SCC_col = SCC_sales.transpose()\n",
        "SCC_col = SCC_col.drop(['RegionID','RegionName','StateName','SizeRank'], axis=0)\n",
        "SCC_col.reset_index(level=0,inplace=True)\n",
        "SCC_col.columns = ['YearMonth','Median_Sales_Price']\n",
        "SCC_col['Year']= (SCC_col['YearMonth'].str.split('-').str[0])\n",
        "SCC_col['Median_Sales_Price'] = SCC_col['Median_Sales_Price'].apply(pd.to_numeric)\n",
        "SCC_col['Year'] = SCC_col['Year'].apply(pd.to_numeric)\n",
        "SCC_MSP_year = SCC_col.groupby('Year').mean()\n",
        "SCC_MSP_year.reset_index(level=0,inplace=True)\n",
        "SCC_MSP_year.columns = ['Year','Median_Sales_Price']\n",
        "#from google.colab import files\n",
        "#SCC_MSP_year.to_csv('median_sale_price.csv')\n",
        "#files.download('median_sale_price.csv')\n",
        "df_merge_new = SCC_MSP_year.iloc[5:10,:]\n",
        "df=df_merge_new.reset_index()\n",
        "df_merge_update=df.iloc[:,2:3]\n",
        "df_merge_update['Median_Sales_Price']"
      ],
      "execution_count": 0,
      "outputs": []
    },
    {
      "metadata": {
        "id": "Stde2Mmxh9x1",
        "colab_type": "text"
      },
      "cell_type": "markdown",
      "source": [
        "**Dataset 2: Income Dataset**"
      ]
    },
    {
      "metadata": {
        "id": "wVRxKF1UcrOq",
        "colab_type": "code",
        "colab": {}
      },
      "cell_type": "code",
      "source": [
        "from google.colab import files\n",
        "uploaded = files.upload()"
      ],
      "execution_count": 0,
      "outputs": []
    },
    {
      "metadata": {
        "id": "tYqSrOfpcKj-",
        "colab_type": "code",
        "colab": {}
      },
      "cell_type": "code",
      "source": [
        "import pandas as pd\n",
        "income = pd.read_csv('Household Income Year 2013 to 2017.csv')\n",
        "income_year = income.iloc[:,0:1]\n",
        "income_year.columns= ['year']\n",
        "income_year\n",
        "income_household_income = income.iloc[:,12:13]\n",
        "income_household_income.columns= ['income']\n",
        "income_household_income\n",
        "income_data = pd.concat([income_year,income_household_income], axis=1)\n",
        "income_data['income']\n",
        "\n",
        "income_data['income'] = pd.Series(['91702', '93854', '96310','101173','102191'])\n",
        "pd.to_numeric(income_data['income'])\n",
        "income_data_merge = pd.concat([income_data,df_merge_update], axis=1)\n",
        "income_data_merge['income']= pd.Series(['91702', '93854', '96310','101173','102191'])\n",
        "pd.to_numeric(income_data_merge['income'])\n",
        "\n",
        "##House Price to Medium Income RATIO**\n",
        "\n",
        "income_data_merge['PIRatio'] = income_data_merge['Median_Sales_Price'] / pd.to_numeric(income_data_merge['income'])\n",
        "from google.colab import files\n",
        "income_data_merge.to_csv('PIRatio.csv')\n",
        "files.download('PIRatio.csv')"
      ],
      "execution_count": 0,
      "outputs": []
    },
    {
      "metadata": {
        "id": "Ot3F0hUSer4a",
        "colab_type": "text"
      },
      "cell_type": "markdown",
      "source": [
        ""
      ]
    },
    {
      "metadata": {
        "id": "PQRCyw-QdDjp",
        "colab_type": "text"
      },
      "cell_type": "markdown",
      "source": [
        "### Warrant:\n",
        "To create this visualization, we used only the SJMA (San Jose Metro Area) affordability dataset. In Tableau, we set the year as the columns and the Price to Income Ratio as the rows. Since all of our other visualizations only include data in the last decade, we then filtered the year to only 2010-present so that the previous decades do not distract from the current trend..\n",
        "\n",
        "The chart  is available in the following link and screen shot below.\n",
        "\n",
        "\n",
        "**Link:** https://public.tableau.com/profile/katharine.grant#!/vizhome/Housing_First_Version/PriceIncome\n"
      ]
    },
    {
      "metadata": {
        "id": "f37ZfHdidIu7",
        "colab_type": "text"
      },
      "cell_type": "markdown",
      "source": [
        "**Interesting Aspect:**\n",
        "For this visualization, we found that the house prices increase faster than median household income. It shows more people can't afford the houses in the San Jose area. This is important because the first step in convincing the council to increase housing is to show them that there is a problem with regards to house prices..\n",
        "\n",
        "**Backing** Bar charts represent data as horizontal or vertical bars. **The length of each bar is proportional to the value of the variable.\n",
        "\n",
        "We see that length of the bar is increasing over the years that means ; Therefore, the chart strongly and clearly supports our claim that Developed countries with more guns also have more gun deaths.\n",
        "\n",
        "**Qualifier**:The claim is true for only Santa Clara County in general not for each city of the county  and for the time period fronm 2013 to 2017.\n",
        "\n",
        "**Rebuttle** If we include more county's then our findings may vary a bit but we have specifically mentioned that  our claim is true for only Santa Clara County in general not for each city of the county  and for the time period fronm 2013 to 2017, so possible rebuttle is being taken care of.\n",
        "[link text](https://)"
      ]
    },
    {
      "metadata": {
        "id": "RBtY-UeBQzhB",
        "colab_type": "text"
      },
      "cell_type": "markdown",
      "source": [
        "### Dashboard Layout\n",
        "Our main goal was to show that housing can be increased without current homeowners losing value, so we put the Median Sales Price and Forecast as the upper half of the dashboard where it will grab the most attention.\n",
        "\n",
        "The other two visualizations are details of how housing and housing prices have changed over the last decade, so we put them underneath our first graph. Since the upper graph is of price, we thought it would flow best if the bottom left, likely the second place the reader will look, was the Price to Income ratio as it shows why rising house prices is a problem. The reader then moves onto the third graph which highlights the fact that while the increase in population has slowed down, the population is still increasing faster than the number of houses available for sale.\n",
        "\n",
        "**Link:** https://public.tableau.com/profile/katharine.grant#!/vizhome/HousePricesDashboard/Dashboard\n"
      ]
    },
    {
      "metadata": {
        "id": "1QafCVFT2F2B",
        "colab_type": "text"
      },
      "cell_type": "markdown",
      "source": [
        "## **ROADMAP**\n",
        "\n",
        "**Our roadmap is as follows**: \n",
        "\n",
        "\n",
        "1. Santa Clara Downtown Study: A project called \"Mission Town Center\" to build 318 housing units at the corner of El Camino Real and Benton Street by Irvine Company is under progess. In the future, we would like to explore how this increase in housing units is going to affect the house prices in that area.\n",
        "\n",
        "2. While we have explored the effect of total inventory on house price, we would also like to explore the difference between increasing the number of single family houses and increasing the number of apartments or condos.\n",
        "\n",
        "3. Currently, we only have Inventory as a factor that affects the house price. However, there are some other factors that affect the inventory of sales, such as population increase and number of housing permits. So we would like to study more about the inventory and try to include these parameters in the prediction of house prices.\n",
        "\n",
        "4. While the price to income ratio graph shows the disproportionate increase in house prices, a possible improvement would be to include data for other nearby metropolitan areas. If the San Jose area's ratio is either rising faster than or is higher than San Francisco or Oakland, then we will be able to emphasize the importance of more local housing.\n",
        "\n",
        "5. We see that as total number of house increases,  the ratio of Population to number of house decreases. We might able to tell that the ratio was increasing in the past few years. From here, we can make the projection of population and number of house to be build. Moreover, if we can compare this ratio with other counties, we get the sense what level of ratio is good. \n",
        "\n",
        "6. From point 5, we will have the forecast number of inventory change. Then we can also use this variable as the input to predict the house price. By doing this way, we can interact the visualization of \"Number of House Unit VS Population\"  with  the \"House Price and Inventory for Sales\" visualization. \n"
      ]
    },
    {
      "metadata": {
        "id": "dtCimSkNVVMo",
        "colab_type": "text"
      },
      "cell_type": "markdown",
      "source": [
        ""
      ]
    }
  ]
}